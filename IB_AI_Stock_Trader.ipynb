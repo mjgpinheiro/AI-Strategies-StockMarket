{
  "nbformat": 4,
  "nbformat_minor": 0,
  "metadata": {
    "colab": {
      "provenance": [],
      "authorship_tag": "ABX9TyO3cq9MFyJGkUr+Sw6pPZ/s",
      "include_colab_link": true
    },
    "kernelspec": {
      "name": "python3",
      "display_name": "Python 3"
    },
    "language_info": {
      "name": "python"
    }
  },
  "cells": [
    {
      "cell_type": "markdown",
      "metadata": {
        "id": "view-in-github",
        "colab_type": "text"
      },
      "source": [
        "<a href=\"https://colab.research.google.com/github/mjgpinheiro/AI-Strategies-StockMarket/blob/master/IB_AI_Stock_Trader.ipynb\" target=\"_parent\"><img src=\"https://colab.research.google.com/assets/colab-badge.svg\" alt=\"Open In Colab\"/></a>"
      ]
    },
    {
      "cell_type": "code",
      "execution_count": null,
      "metadata": {
        "colab": {
          "base_uri": "https://localhost:8080/"
        },
        "id": "pWec5Sm_uMae",
        "outputId": "a96353c8-85ab-46c1-cfc7-17bb975a3f64"
      },
      "outputs": [
        {
          "output_type": "stream",
          "name": "stdout",
          "text": [
            "Looking in indexes: https://pypi.org/simple, https://us-python.pkg.dev/colab-wheels/public/simple/\n",
            "Requirement already satisfied: yfinance in /usr/local/lib/python3.8/dist-packages (0.2.12)\n",
            "Requirement already satisfied: frozendict>=2.3.4 in /usr/local/lib/python3.8/dist-packages (from yfinance) (2.3.5)\n",
            "Requirement already satisfied: requests>=2.26 in /usr/local/lib/python3.8/dist-packages (from yfinance) (2.28.2)\n",
            "Requirement already satisfied: multitasking>=0.0.7 in /usr/local/lib/python3.8/dist-packages (from yfinance) (0.0.11)\n",
            "Requirement already satisfied: numpy>=1.16.5 in /usr/local/lib/python3.8/dist-packages (from yfinance) (1.22.4)\n",
            "Requirement already satisfied: lxml>=4.9.1 in /usr/local/lib/python3.8/dist-packages (from yfinance) (4.9.2)\n",
            "Requirement already satisfied: appdirs>=1.4.4 in /usr/local/lib/python3.8/dist-packages (from yfinance) (1.4.4)\n",
            "Requirement already satisfied: pytz>=2022.5 in /usr/local/lib/python3.8/dist-packages (from yfinance) (2022.7.1)\n",
            "Requirement already satisfied: html5lib>=1.1 in /usr/local/lib/python3.8/dist-packages (from yfinance) (1.1)\n",
            "Requirement already satisfied: pandas>=1.3.0 in /usr/local/lib/python3.8/dist-packages (from yfinance) (1.3.5)\n",
            "Requirement already satisfied: beautifulsoup4>=4.11.1 in /usr/local/lib/python3.8/dist-packages (from yfinance) (4.11.2)\n",
            "Requirement already satisfied: cryptography>=3.3.2 in /usr/local/lib/python3.8/dist-packages (from yfinance) (39.0.2)\n",
            "Requirement already satisfied: soupsieve>1.2 in /usr/local/lib/python3.8/dist-packages (from beautifulsoup4>=4.11.1->yfinance) (2.4)\n",
            "Requirement already satisfied: cffi>=1.12 in /usr/local/lib/python3.8/dist-packages (from cryptography>=3.3.2->yfinance) (1.15.1)\n",
            "Requirement already satisfied: six>=1.9 in /usr/local/lib/python3.8/dist-packages (from html5lib>=1.1->yfinance) (1.15.0)\n",
            "Requirement already satisfied: webencodings in /usr/local/lib/python3.8/dist-packages (from html5lib>=1.1->yfinance) (0.5.1)\n",
            "Requirement already satisfied: python-dateutil>=2.7.3 in /usr/local/lib/python3.8/dist-packages (from pandas>=1.3.0->yfinance) (2.8.2)\n",
            "Requirement already satisfied: idna<4,>=2.5 in /usr/local/lib/python3.8/dist-packages (from requests>=2.26->yfinance) (2.10)\n",
            "Requirement already satisfied: charset-normalizer<4,>=2 in /usr/local/lib/python3.8/dist-packages (from requests>=2.26->yfinance) (3.0.1)\n",
            "Requirement already satisfied: certifi>=2017.4.17 in /usr/local/lib/python3.8/dist-packages (from requests>=2.26->yfinance) (2022.12.7)\n",
            "Requirement already satisfied: urllib3<1.27,>=1.21.1 in /usr/local/lib/python3.8/dist-packages (from requests>=2.26->yfinance) (1.26.14)\n",
            "Requirement already satisfied: pycparser in /usr/local/lib/python3.8/dist-packages (from cffi>=1.12->cryptography>=3.3.2->yfinance) (2.21)\n"
          ]
        }
      ],
      "source": [
        "!pip install yfinance\n"
      ]
    },
    {
      "cell_type": "code",
      "source": [
        "!pip install ibapi\n",
        "\n",
        "from ibapi.client import EClient\n",
        "from ibapi.wrapper import EWrapper\n",
        "from ibapi.contract import Contract\n",
        "from ibapi.order import Order\n",
        "\n",
        "class IBTrader(EWrapper, EClient):\n",
        "    def __init__(self, host, port, client_id):\n",
        "        EClient.__init__(self, self)\n",
        "        self.connect(host, port, client_id)\n",
        "        self.order_id = None\n",
        "\n",
        "    def nextValidId(self, orderId):\n",
        "        super().nextValidId(orderId)\n",
        "        self.order_id = orderId\n",
        "\n",
        "    def place_order(self, symbol, quantity, action):\n",
        "        contract = Contract()\n",
        "        contract.symbol = symbol\n",
        "        contract.secType = \"STK\"\n",
        "        contract.currency = \"USD\"\n",
        "        contract.exchange = \"SMART\"\n",
        "\n",
        "        order = Order()\n",
        "        order.action = action\n",
        "        order.totalQuantity = quantity\n",
        "        order.orderType = \"MKT\"\n",
        "\n",
        "        self.placeOrder(self.order_id, contract, order)\n",
        "\n",
        "    def disconnect(self):\n",
        "        self.done = True\n",
        "        self.disconnect()\n",
        "\n",
        "# Define your Interactive Brokers' credentials\n",
        "host = \"your_host\"\n",
        "port = 7496 # or 7497 for paper trading\n",
        "client_id = 0 # use different client IDs for different instances of the EClient class\n",
        "\n",
        "# Create an instance of the IBTrader class\n",
        "trader = IBTrader(host, port, client_id)\n",
        "\n",
        "# Connect to the trading platform\n",
        "trader.connect()\n",
        "\n",
        "# Submit orders for buying or selling the stocks\n",
        "buy_codes = []\n",
        "sell_codes = []\n",
        "\n",
        "for i in range(len(stocks)):\n",
        "    if y_test_pred[i] > stock_data_norm.iloc[-1, i]:\n",
        "        buy_codes.append(stocks[i])\n",
        "    else:\n",
        "        sell_codes.append(stocks[i])\n",
        "\n",
        "# Risk Management\n",
        "# Set a maximum amount of capital to be allocated to each trade\n",
        "max_capital_per_trade = 10000\n",
        "\n",
        "# Buy the stocks\n",
        "for code in buy_codes:\n",
        "    # Get the current stock price\n",
        "    current_price = get_current_price(code)\n",
        "    \n",
        "    # Calculate the number of shares to buy based on the maximum capital per trade\n",
        "    num_shares = int(max_capital_per_trade / current_price)\n",
        "    \n",
        "    # Place the buy order\n",
        "    trader.place_order(code, 100, \"BUY\")\n",
        "\n",
        "# Sell the stocks\n",
        "for code in sell_codes:\n",
        "    # Get the current stock price\n",
        "    current_price = get_current_price(code)\n",
        "    \n",
        "    # Calculate the number of shares to sell based on the maximum capital per trade\n",
        "    num_shares = int(max_capital_per_trade / current_price)\n",
        "    \n",
        "    # Place the sell order\n",
        "    trader.place_order(code, 100, \"SELL\")\n",
        "\n",
        "# Disconnect from the trading platform\n",
        "trader.disconnect()\n"
      ],
      "metadata": {
        "colab": {
          "base_uri": "https://localhost:8080/"
        },
        "id": "3qjhL66dulQP",
        "outputId": "cc5cd9ad-9ed5-4a67-9571-7e632e1e619c"
      },
      "execution_count": null,
      "outputs": [
        {
          "output_type": "stream",
          "name": "stdout",
          "text": [
            "[*********************100%***********************]  26 of 26 completed\n",
            "\n",
            "3 Failed downloads:\n",
            "- VISA: No timezone found, symbol may be delisted\n",
            "- CISCO: No timezone found, symbol may be delisted\n",
            "- FB: No timezone found, symbol may be delisted\n"
          ]
        }
      ]
    }
  ]
}