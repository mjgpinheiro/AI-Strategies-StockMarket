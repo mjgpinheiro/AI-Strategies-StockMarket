{
  "nbformat": 4,
  "nbformat_minor": 0,
  "metadata": {
    "colab": {
      "provenance": [],
      "authorship_tag": "ABX9TyOe5wRRlc5VRA7dA//s6WaO",
      "include_colab_link": true
    },
    "kernelspec": {
      "name": "python3",
      "display_name": "Python 3"
    },
    "language_info": {
      "name": "python"
    }
  },
  "cells": [
    {
      "cell_type": "markdown",
      "metadata": {
        "id": "view-in-github",
        "colab_type": "text"
      },
      "source": [
        "<a href=\"https://colab.research.google.com/github/mjgpinheiro/AI-Strategies-StockMarket/blob/master/Stock_selection.ipynb\" target=\"_parent\"><img src=\"https://colab.research.google.com/assets/colab-badge.svg\" alt=\"Open In Colab\"/></a>"
      ]
    },
    {
      "cell_type": "code",
      "execution_count": 9,
      "metadata": {
        "colab": {
          "base_uri": "https://localhost:8080/"
        },
        "id": "pWec5Sm_uMae",
        "outputId": "a96353c8-85ab-46c1-cfc7-17bb975a3f64"
      },
      "outputs": [
        {
          "output_type": "stream",
          "name": "stdout",
          "text": [
            "Looking in indexes: https://pypi.org/simple, https://us-python.pkg.dev/colab-wheels/public/simple/\n",
            "Requirement already satisfied: yfinance in /usr/local/lib/python3.8/dist-packages (0.2.12)\n",
            "Requirement already satisfied: frozendict>=2.3.4 in /usr/local/lib/python3.8/dist-packages (from yfinance) (2.3.5)\n",
            "Requirement already satisfied: requests>=2.26 in /usr/local/lib/python3.8/dist-packages (from yfinance) (2.28.2)\n",
            "Requirement already satisfied: multitasking>=0.0.7 in /usr/local/lib/python3.8/dist-packages (from yfinance) (0.0.11)\n",
            "Requirement already satisfied: numpy>=1.16.5 in /usr/local/lib/python3.8/dist-packages (from yfinance) (1.22.4)\n",
            "Requirement already satisfied: lxml>=4.9.1 in /usr/local/lib/python3.8/dist-packages (from yfinance) (4.9.2)\n",
            "Requirement already satisfied: appdirs>=1.4.4 in /usr/local/lib/python3.8/dist-packages (from yfinance) (1.4.4)\n",
            "Requirement already satisfied: pytz>=2022.5 in /usr/local/lib/python3.8/dist-packages (from yfinance) (2022.7.1)\n",
            "Requirement already satisfied: html5lib>=1.1 in /usr/local/lib/python3.8/dist-packages (from yfinance) (1.1)\n",
            "Requirement already satisfied: pandas>=1.3.0 in /usr/local/lib/python3.8/dist-packages (from yfinance) (1.3.5)\n",
            "Requirement already satisfied: beautifulsoup4>=4.11.1 in /usr/local/lib/python3.8/dist-packages (from yfinance) (4.11.2)\n",
            "Requirement already satisfied: cryptography>=3.3.2 in /usr/local/lib/python3.8/dist-packages (from yfinance) (39.0.2)\n",
            "Requirement already satisfied: soupsieve>1.2 in /usr/local/lib/python3.8/dist-packages (from beautifulsoup4>=4.11.1->yfinance) (2.4)\n",
            "Requirement already satisfied: cffi>=1.12 in /usr/local/lib/python3.8/dist-packages (from cryptography>=3.3.2->yfinance) (1.15.1)\n",
            "Requirement already satisfied: six>=1.9 in /usr/local/lib/python3.8/dist-packages (from html5lib>=1.1->yfinance) (1.15.0)\n",
            "Requirement already satisfied: webencodings in /usr/local/lib/python3.8/dist-packages (from html5lib>=1.1->yfinance) (0.5.1)\n",
            "Requirement already satisfied: python-dateutil>=2.7.3 in /usr/local/lib/python3.8/dist-packages (from pandas>=1.3.0->yfinance) (2.8.2)\n",
            "Requirement already satisfied: idna<4,>=2.5 in /usr/local/lib/python3.8/dist-packages (from requests>=2.26->yfinance) (2.10)\n",
            "Requirement already satisfied: charset-normalizer<4,>=2 in /usr/local/lib/python3.8/dist-packages (from requests>=2.26->yfinance) (3.0.1)\n",
            "Requirement already satisfied: certifi>=2017.4.17 in /usr/local/lib/python3.8/dist-packages (from requests>=2.26->yfinance) (2022.12.7)\n",
            "Requirement already satisfied: urllib3<1.27,>=1.21.1 in /usr/local/lib/python3.8/dist-packages (from requests>=2.26->yfinance) (1.26.14)\n",
            "Requirement already satisfied: pycparser in /usr/local/lib/python3.8/dist-packages (from cffi>=1.12->cryptography>=3.3.2->yfinance) (2.21)\n"
          ]
        }
      ],
      "source": [
        "!pip install yfinance\n"
      ]
    },
    {
      "cell_type": "code",
      "source": [
        "import pandas as pd\n",
        "import yfinance as yf\n",
        "\n",
        "# Define the start and end date for the one month period\n",
        "start_date = '2022-02-01'\n",
        "end_date = '2022-03-01'\n",
        "\n",
        "# Define the number of stocks to select\n",
        "num_stocks = 20\n",
        "\n",
        "# Define the simple moving average window size\n",
        "sma_window = 50\n",
        "\n",
        "# Define the minimum price threshold for stocks\n",
        "min_price = 10\n",
        "\n",
        "# Define the maximum price threshold for stocks\n",
        "max_price = 1000\n",
        "\n",
        "# Download the historical data for all stocks listed on Yahoo Finance\n",
        "all_tickers = yf.Tickers('msft aapl goog amzn fb jpm jnj brk-b visa pg dis nvda hd unh pypl ma v wmt jpm pfe bac t xom cvx intc cisco adbe')\n",
        "all_data = all_tickers.history(start=start_date, end=end_date)\n",
        "\n",
        "# Filter the stocks based on the minimum and maximum price thresholds\n",
        "filtered_data = all_data.loc[:, all_data.columns.get_level_values(1) == 'Close'].dropna(axis=1)\n",
        "filtered_data = filtered_data.loc[:, (filtered_data.min() > min_price) & (filtered_data.max() < max_price)]\n",
        "\n",
        "# Calculate the simple moving average for each stock\n",
        "sma_data = filtered_data.rolling(window=sma_window).mean().iloc[-1]\n",
        "\n",
        "# Select the top 20 stocks with the highest simple moving average\n",
        "selected_stocks = sma_data.sort_values(ascending=False)[:num_stocks]\n",
        "\n",
        "# Display the selected stocks and their instructions to BUY or SELL\n",
        "for stock, sma_value in selected_stocks.items():\n",
        "    current_price = filtered_data[stock][-1]\n",
        "    if current_price > sma_value:\n",
        "        print(f\"{stock} - BUY (current price: {current_price:.2f}, SMA{str(sma_window)}: {sma_value:.2f})\")\n",
        "    else:\n",
        "        print(f\"{stock} - SELL (current price: {current_price:.2f}, SMA{str(sma_window)}: {sma_value:.2f})\")\n"
      ],
      "metadata": {
        "colab": {
          "base_uri": "https://localhost:8080/"
        },
        "id": "3qjhL66dulQP",
        "outputId": "cc5cd9ad-9ed5-4a67-9571-7e632e1e619c"
      },
      "execution_count": 10,
      "outputs": [
        {
          "output_type": "stream",
          "name": "stdout",
          "text": [
            "[*********************100%***********************]  26 of 26 completed\n",
            "\n",
            "3 Failed downloads:\n",
            "- VISA: No timezone found, symbol may be delisted\n",
            "- CISCO: No timezone found, symbol may be delisted\n",
            "- FB: No timezone found, symbol may be delisted\n"
          ]
        }
      ]
    }
  ]
}